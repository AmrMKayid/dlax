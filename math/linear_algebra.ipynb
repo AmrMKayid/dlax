{
 "cells": [
  {
   "cell_type": "code",
   "execution_count": 119,
   "id": "fundamental-flush",
   "metadata": {},
   "outputs": [],
   "source": [
    "import jax\n",
    "import jax.numpy as jnp\n",
    "\n",
    "import matplotlib.pyplot as plt"
   ]
  },
  {
   "cell_type": "code",
   "execution_count": 33,
   "id": "every-tower",
   "metadata": {},
   "outputs": [
    {
     "data": {
      "text/plain": [
       "DeviceArray([0, 0], dtype=uint32)"
      ]
     },
     "execution_count": 33,
     "metadata": {},
     "output_type": "execute_result"
    }
   ],
   "source": [
    "key = jax.random.PRNGKey(0)\n",
    "key"
   ]
  },
  {
   "cell_type": "markdown",
   "id": "greek-policy",
   "metadata": {},
   "source": [
    "## 2.1 Scalars, Vectors, Matrices and Tensors"
   ]
  },
  {
   "cell_type": "code",
   "execution_count": 34,
   "id": "discrete-arrow",
   "metadata": {},
   "outputs": [
    {
     "data": {
      "text/plain": [
       "(DeviceArray(1, dtype=int32), ())"
      ]
     },
     "execution_count": 34,
     "metadata": {},
     "output_type": "execute_result"
    }
   ],
   "source": [
    "## Scalar\n",
    "a = jnp.array(1)\n",
    "a, a.shape"
   ]
  },
  {
   "cell_type": "code",
   "execution_count": 36,
   "id": "documentary-induction",
   "metadata": {},
   "outputs": [
    {
     "data": {
      "text/plain": [
       "Buffer([0.9653214 , 0.31468165, 0.63302994], dtype=float32)"
      ]
     },
     "execution_count": 36,
     "metadata": {},
     "output_type": "execute_result"
    }
   ],
   "source": [
    "## Vector\n",
    "x = jax.random.uniform(key, (3,))\n",
    "x"
   ]
  },
  {
   "cell_type": "code",
   "execution_count": 37,
   "id": "medical-accident",
   "metadata": {},
   "outputs": [
    {
     "data": {
      "text/plain": [
       "DeviceArray([[0.57450044, 0.09968603],\n",
       "             [0.7419659 , 0.8941783 ],\n",
       "             [0.59656656, 0.45325184]], dtype=float32)"
      ]
     },
     "execution_count": 37,
     "metadata": {},
     "output_type": "execute_result"
    }
   ],
   "source": [
    "## Matric\n",
    "A = jax.random.uniform(key, (3, 2))\n",
    "A"
   ]
  },
  {
   "cell_type": "code",
   "execution_count": 39,
   "id": "extensive-marathon",
   "metadata": {},
   "outputs": [
    {
     "data": {
      "text/plain": [
       "DeviceArray([[0.57450044, 0.7419659 , 0.59656656],\n",
       "             [0.09968603, 0.8941783 , 0.45325184]], dtype=float32)"
      ]
     },
     "execution_count": 39,
     "metadata": {},
     "output_type": "execute_result"
    }
   ],
   "source": [
    "## Transpose\n",
    "A.T"
   ]
  },
  {
   "cell_type": "code",
   "execution_count": 43,
   "id": "anonymous-eugene",
   "metadata": {},
   "outputs": [
    {
     "data": {
      "text/plain": [
       "DeviceArray([[[0.6433916 , 0.18188512],\n",
       "              [0.02240455, 0.563781  ],\n",
       "              [0.5526401 , 0.0958724 ]],\n",
       "\n",
       "             [[0.34253013, 0.03644359],\n",
       "              [0.08744538, 0.7909105 ],\n",
       "              [0.35205448, 0.53364205]],\n",
       "\n",
       "             [[0.02900076, 0.4168595 ],\n",
       "              [0.5802449 , 0.91486526],\n",
       "              [0.27414513, 0.14991808]],\n",
       "\n",
       "             [[0.9383501 , 0.5209162 ],\n",
       "              [0.51207185, 0.90618336],\n",
       "              [0.7309413 , 0.95533276]]], dtype=float32)"
      ]
     },
     "execution_count": 43,
     "metadata": {},
     "output_type": "execute_result"
    }
   ],
   "source": [
    "## Tensor\n",
    "T = jax.random.uniform(key, (4, 3, 2))\n",
    "T"
   ]
  },
  {
   "cell_type": "code",
   "execution_count": 44,
   "id": "upper-bearing",
   "metadata": {},
   "outputs": [
    {
     "data": {
      "text/plain": [
       "DeviceArray([[[[0.62822807, 0.14377403],\n",
       "               [0.8984052 , 0.65874314],\n",
       "               [0.07962799, 0.48383594]],\n",
       "\n",
       "              [[0.5472566 , 0.7846856 ],\n",
       "               [0.15672684, 0.01484442],\n",
       "               [0.71119785, 0.22328532]],\n",
       "\n",
       "              [[0.41000617, 0.8900167 ],\n",
       "               [0.40599668, 0.47695863],\n",
       "               [0.5978857 , 0.8552846 ]],\n",
       "\n",
       "              [[0.1107415 , 0.53031695],\n",
       "               [0.23293078, 0.7135767 ],\n",
       "               [0.71301794, 0.04772007]]],\n",
       "\n",
       "\n",
       "             [[[0.40297937, 0.14153945],\n",
       "               [0.09764695, 0.8814136 ],\n",
       "               [0.92715454, 0.18402278]],\n",
       "\n",
       "              [[0.28797126, 0.65191936],\n",
       "               [0.6797875 , 0.6629156 ],\n",
       "               [0.65970445, 0.46352553]],\n",
       "\n",
       "              [[0.51947975, 0.5778916 ],\n",
       "               [0.5084804 , 0.61742306],\n",
       "               [0.8197963 , 0.4307462 ]],\n",
       "\n",
       "              [[0.8575214 , 0.783502  ],\n",
       "               [0.94793236, 0.68221354],\n",
       "               [0.06170225, 0.87853754]]],\n",
       "\n",
       "\n",
       "             [[[0.09883952, 0.09465826],\n",
       "               [0.01398623, 0.4206903 ],\n",
       "               [0.35058105, 0.6729419 ]],\n",
       "\n",
       "              [[0.3842126 , 0.65330803],\n",
       "               [0.8350402 , 0.25193584],\n",
       "               [0.75266206, 0.86297786]],\n",
       "\n",
       "              [[0.78868866, 0.50146735],\n",
       "               [0.12790716, 0.6836517 ],\n",
       "               [0.00720572, 0.32776773]],\n",
       "\n",
       "              [[0.72676563, 0.6639602 ],\n",
       "               [0.37299192, 0.41414523],\n",
       "               [0.44116712, 0.04718411]]],\n",
       "\n",
       "\n",
       "             [[[0.27896273, 0.09641457],\n",
       "               [0.31908667, 0.62571406],\n",
       "               [0.8439336 , 0.26882625]],\n",
       "\n",
       "              [[0.05415714, 0.41269994],\n",
       "               [0.75470054, 0.74838746],\n",
       "               [0.17626464, 0.8093641 ]],\n",
       "\n",
       "              [[0.624611  , 0.9816768 ],\n",
       "               [0.24625874, 0.55758953],\n",
       "               [0.84688497, 0.7177793 ]],\n",
       "\n",
       "              [[0.8602836 , 0.99019456],\n",
       "               [0.0157876 , 0.49037588],\n",
       "               [0.6944947 , 0.3468002 ]]],\n",
       "\n",
       "\n",
       "             [[[0.86528623, 0.18736088],\n",
       "               [0.27603364, 0.3092512 ],\n",
       "               [0.98809385, 0.35278976]],\n",
       "\n",
       "              [[0.22256732, 0.9395292 ],\n",
       "               [0.6249217 , 0.7887486 ],\n",
       "               [0.438316  , 0.06522572]],\n",
       "\n",
       "              [[0.9836211 , 0.40310252],\n",
       "               [0.19639063, 0.5146681 ],\n",
       "               [0.21298718, 0.2866522 ]],\n",
       "\n",
       "              [[0.4202664 , 0.31651807],\n",
       "               [0.3641243 , 0.33553696],\n",
       "               [0.1813246 , 0.5806395 ]]]], dtype=float32)"
      ]
     },
     "execution_count": 44,
     "metadata": {},
     "output_type": "execute_result"
    }
   ],
   "source": [
    "T2 = jax.random.uniform(key, (5, 4, 3, 2))\n",
    "T2"
   ]
  },
  {
   "cell_type": "code",
   "execution_count": 48,
   "id": "supported-cleaner",
   "metadata": {},
   "outputs": [
    {
     "data": {
      "text/plain": [
       "DeviceArray([[[0.62822807, 0.14377403],\n",
       "              [0.8984052 , 0.65874314],\n",
       "              [0.07962799, 0.48383594]],\n",
       "\n",
       "             [[0.5472566 , 0.7846856 ],\n",
       "              [0.15672684, 0.01484442],\n",
       "              [0.71119785, 0.22328532]],\n",
       "\n",
       "             [[0.41000617, 0.8900167 ],\n",
       "              [0.40599668, 0.47695863],\n",
       "              [0.5978857 , 0.8552846 ]],\n",
       "\n",
       "             [[0.1107415 , 0.53031695],\n",
       "              [0.23293078, 0.7135767 ],\n",
       "              [0.71301794, 0.04772007]]], dtype=float32)"
      ]
     },
     "execution_count": 48,
     "metadata": {},
     "output_type": "execute_result"
    }
   ],
   "source": [
    "T2[0]"
   ]
  },
  {
   "cell_type": "markdown",
   "id": "gross-blind",
   "metadata": {},
   "source": [
    "---\n",
    "---\n",
    "---"
   ]
  },
  {
   "cell_type": "code",
   "execution_count": 52,
   "id": "exceptional-fever",
   "metadata": {},
   "outputs": [
    {
     "data": {
      "text/plain": [
       "(DeviceArray(2, dtype=int32), ())"
      ]
     },
     "execution_count": 52,
     "metadata": {},
     "output_type": "execute_result"
    }
   ],
   "source": [
    "a = jnp.array(2)\n",
    "a, a.shape"
   ]
  },
  {
   "cell_type": "code",
   "execution_count": 60,
   "id": "complicated-retail",
   "metadata": {},
   "outputs": [
    {
     "data": {
      "text/plain": [
       "DeviceArray([1., 1.], dtype=float32)"
      ]
     },
     "execution_count": 60,
     "metadata": {},
     "output_type": "execute_result"
    }
   ],
   "source": [
    "A = jnp.ones((2, ))\n",
    "A"
   ]
  },
  {
   "cell_type": "code",
   "execution_count": 61,
   "id": "premium-trail",
   "metadata": {},
   "outputs": [
    {
     "data": {
      "text/plain": [
       "DeviceArray([1., 1.], dtype=float32)"
      ]
     },
     "execution_count": 61,
     "metadata": {},
     "output_type": "execute_result"
    }
   ],
   "source": [
    "B = jnp.ones((2, ))\n",
    "B"
   ]
  },
  {
   "cell_type": "code",
   "execution_count": 62,
   "id": "german-dominican",
   "metadata": {},
   "outputs": [
    {
     "data": {
      "text/plain": [
       "DeviceArray([2., 2.], dtype=float32)"
      ]
     },
     "execution_count": 62,
     "metadata": {},
     "output_type": "execute_result"
    }
   ],
   "source": [
    "C = A + B\n",
    "C"
   ]
  },
  {
   "cell_type": "code",
   "execution_count": 63,
   "id": "stunning-completion",
   "metadata": {},
   "outputs": [
    {
     "data": {
      "text/plain": [
       "DeviceArray([7., 7.], dtype=float32)"
      ]
     },
     "execution_count": 63,
     "metadata": {},
     "output_type": "execute_result"
    }
   ],
   "source": [
    "A2 = A * a + 5\n",
    "A2"
   ]
  },
  {
   "cell_type": "code",
   "execution_count": 64,
   "id": "filled-clearing",
   "metadata": {},
   "outputs": [
    {
     "data": {
      "text/plain": [
       "DeviceArray([[1., 1.],\n",
       "             [1., 1.]], dtype=float32)"
      ]
     },
     "execution_count": 64,
     "metadata": {},
     "output_type": "execute_result"
    }
   ],
   "source": [
    "M = jnp.ones((2, 2))\n",
    "M"
   ]
  },
  {
   "cell_type": "code",
   "execution_count": 68,
   "id": "distinct-workstation",
   "metadata": {},
   "outputs": [
    {
     "data": {
      "text/plain": [
       "DeviceArray([[2., 2.],\n",
       "             [2., 2.]], dtype=float32)"
      ]
     },
     "execution_count": 68,
     "metadata": {},
     "output_type": "execute_result"
    }
   ],
   "source": [
    "M2 = M + A\n",
    "M2"
   ]
  },
  {
   "cell_type": "markdown",
   "id": "imperial-republic",
   "metadata": {},
   "source": [
    "## 2.2 Multiplying Matrices and Vectors"
   ]
  },
  {
   "cell_type": "code",
   "execution_count": 69,
   "id": "sonic-freeze",
   "metadata": {},
   "outputs": [
    {
     "data": {
      "text/plain": [
       "DeviceArray([[2., 2.],\n",
       "             [2., 2.],\n",
       "             [2., 2.]], dtype=float32)"
      ]
     },
     "execution_count": 69,
     "metadata": {},
     "output_type": "execute_result"
    }
   ],
   "source": [
    "A = jnp.ones((3, 2)) * 2\n",
    "A"
   ]
  },
  {
   "cell_type": "code",
   "execution_count": 70,
   "id": "virtual-cologne",
   "metadata": {},
   "outputs": [
    {
     "data": {
      "text/plain": [
       "DeviceArray([[3., 3., 3., 3.],\n",
       "             [3., 3., 3., 3.]], dtype=float32)"
      ]
     },
     "execution_count": 70,
     "metadata": {},
     "output_type": "execute_result"
    }
   ],
   "source": [
    "B = jnp.ones((2, 4)) * 3\n",
    "B"
   ]
  },
  {
   "cell_type": "code",
   "execution_count": 73,
   "id": "further-tomato",
   "metadata": {},
   "outputs": [
    {
     "data": {
      "text/plain": [
       "DeviceArray([[12., 12., 12., 12.],\n",
       "             [12., 12., 12., 12.],\n",
       "             [12., 12., 12., 12.]], dtype=float32)"
      ]
     },
     "execution_count": 73,
     "metadata": {},
     "output_type": "execute_result"
    }
   ],
   "source": [
    "C = jnp.matmul(A, B)\n",
    "C"
   ]
  },
  {
   "cell_type": "code",
   "execution_count": 74,
   "id": "consistent-nerve",
   "metadata": {},
   "outputs": [
    {
     "data": {
      "text/plain": [
       "DeviceArray([[12., 12., 12., 12.],\n",
       "             [12., 12., 12., 12.],\n",
       "             [12., 12., 12., 12.]], dtype=float32)"
      ]
     },
     "execution_count": 74,
     "metadata": {},
     "output_type": "execute_result"
    }
   ],
   "source": [
    "C = A @ B\n",
    "C"
   ]
  },
  {
   "cell_type": "code",
   "execution_count": 75,
   "id": "following-deputy",
   "metadata": {},
   "outputs": [
    {
     "data": {
      "text/plain": [
       "DeviceArray([[12., 12., 12.],\n",
       "             [12., 12., 12.],\n",
       "             [12., 12., 12.],\n",
       "             [12., 12., 12.]], dtype=float32)"
      ]
     },
     "execution_count": 75,
     "metadata": {},
     "output_type": "execute_result"
    }
   ],
   "source": [
    "C = B.T @ A.T\n",
    "C"
   ]
  },
  {
   "cell_type": "markdown",
   "id": "prompt-subscriber",
   "metadata": {},
   "source": [
    "## 2.3 Identity and Inverse Matrices"
   ]
  },
  {
   "cell_type": "code",
   "execution_count": 76,
   "id": "medical-bailey",
   "metadata": {},
   "outputs": [
    {
     "data": {
      "text/plain": [
       "DeviceArray([[1., 0., 0.],\n",
       "             [0., 1., 0.],\n",
       "             [0., 0., 1.]], dtype=float32)"
      ]
     },
     "execution_count": 76,
     "metadata": {},
     "output_type": "execute_result"
    }
   ],
   "source": [
    "I = jnp.eye(3)\n",
    "I"
   ]
  },
  {
   "cell_type": "code",
   "execution_count": 106,
   "id": "scenic-cancellation",
   "metadata": {},
   "outputs": [
    {
     "data": {
      "text/plain": [
       "DeviceArray([[1, 2],\n",
       "             [3, 4]], dtype=int32)"
      ]
     },
     "execution_count": 106,
     "metadata": {},
     "output_type": "execute_result"
    }
   ],
   "source": [
    "A = jnp.array([[1,2],[3,4]])  #jax.random.uniform(key, (3, 3))\n",
    "A"
   ]
  },
  {
   "cell_type": "code",
   "execution_count": 107,
   "id": "accessory-bidder",
   "metadata": {},
   "outputs": [
    {
     "data": {
      "text/plain": [
       "Buffer([[-2.0000002 ,  1.0000001 ],\n",
       "        [ 1.5000001 , -0.50000006]], dtype=float32)"
      ]
     },
     "execution_count": 107,
     "metadata": {},
     "output_type": "execute_result"
    }
   ],
   "source": [
    "A_1 = jnp.linalg.inv(A)\n",
    "A_1"
   ]
  },
  {
   "cell_type": "code",
   "execution_count": 110,
   "id": "damaged-responsibility",
   "metadata": {},
   "outputs": [
    {
     "data": {
      "text/plain": [
       "DeviceArray([[ 1.0000002e+00,  0.0000000e+00],\n",
       "             [-1.1920929e-07,  1.0000000e+00]], dtype=float32)"
      ]
     },
     "execution_count": 110,
     "metadata": {},
     "output_type": "execute_result"
    }
   ],
   "source": [
    "I = jnp.dot(A_1, A)\n",
    "I"
   ]
  },
  {
   "cell_type": "code",
   "execution_count": 111,
   "id": "prepared-research",
   "metadata": {},
   "outputs": [
    {
     "data": {
      "text/plain": [
       "DeviceArray([[ 1.0000000e+00,  0.0000000e+00],\n",
       "             [-4.7683716e-07,  1.0000002e+00]], dtype=float32)"
      ]
     },
     "execution_count": 111,
     "metadata": {},
     "output_type": "execute_result"
    }
   ],
   "source": [
    "I = jnp.dot(A, A_1)\n",
    "I"
   ]
  },
  {
   "cell_type": "markdown",
   "id": "under-shuttle",
   "metadata": {},
   "source": [
    "## 2.4 Linear Dependence and Span"
   ]
  },
  {
   "cell_type": "code",
   "execution_count": 127,
   "id": "legal-timothy",
   "metadata": {},
   "outputs": [],
   "source": [
    "# !https://hadrienj.github.io/posts/Deep-Learning-Book-Series-2.4-Linear-Dependence-and-Span/"
   ]
  },
  {
   "cell_type": "code",
   "execution_count": 117,
   "id": "normal-passenger",
   "metadata": {},
   "outputs": [
    {
     "data": {
      "text/plain": [
       "(DeviceArray([-10,  -9,  -8,  -7,  -6,  -5,  -4,  -3,  -2,  -1,   0,   1,\n",
       "                2,   3,   4,   5,   6,   7,   8,   9], dtype=int32),\n",
       " DeviceArray([-19, -17, -15, -13, -11,  -9,  -7,  -5,  -3,  -1,   1,   3,\n",
       "                5,   7,   9,  11,  13,  15,  17,  19], dtype=int32))"
      ]
     },
     "execution_count": 117,
     "metadata": {},
     "output_type": "execute_result"
    }
   ],
   "source": [
    "x = jnp.arange(-10, 10)\n",
    "y = 2*x + 1\n",
    "x, y"
   ]
  },
  {
   "cell_type": "code",
   "execution_count": 126,
   "id": "sixth-bidder",
   "metadata": {},
   "outputs": [
    {
     "data": {
      "image/png": "[encoded data removed]",
      "text/plain": [
       "<Figure size 432x288 with 1 Axes>"
      ]
     },
     "metadata": {
      "needs_background": "light"
     },
     "output_type": "display_data"
    }
   ],
   "source": [
    "plt.figure()\n",
    "plt.plot(x, y)\n",
    "plt.xlim(-2, 10)\n",
    "plt.ylim(-2, 10)\n",
    "# draw axes\n",
    "plt.axvline(x=0, color='#A9A9A9')\n",
    "plt.axhline(y=0, color='#A9A9A9')\n",
    "plt.show()\n",
    "plt.close()"
   ]
  },
  {
   "cell_type": "code",
   "execution_count": null,
   "id": "talented-prison",
   "metadata": {},
   "outputs": [],
   "source": []
  }
 ],
 "metadata": {
  "kernelspec": {
   "display_name": "Python 3",
   "language": "python",
   "name": "python3"
  },
  "language_info": {
   "codemirror_mode": {
    "name": "ipython",
    "version": 3
   },
   "file_extension": ".py",
   "mimetype": "text/x-python",
   "name": "python",
   "nbconvert_exporter": "python",
   "pygments_lexer": "ipython3",
   "version": "3.7.9"
  }
 },
 "nbformat": 4,
 "nbformat_minor": 5
}
